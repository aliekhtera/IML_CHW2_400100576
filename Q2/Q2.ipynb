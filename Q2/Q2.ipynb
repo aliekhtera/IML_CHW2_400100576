{
  "cells": [
    {
      "cell_type": "markdown",
      "metadata": {
        "id": "ChC3RF8meAlK"
      },
      "source": [
        "<h1 align=\"center\">Introduction to Machine Learning - 25737-2</h1>\n",
        "<h4 align=\"center\">Dr. R. Amiri</h4>\n",
        "<h4 align=\"center\">Sharif University of Technology, Spring 2024</h4>\n",
        "\n",
        "\n",
        "**<font color='red'>Plagiarism is strongly prohibited!</font>**\n",
        "\n",
        "\n",
        "**Student Name**: Ali Ekhterachian\n",
        "\n",
        "**Student ID**: 400100576\n",
        "\n"
      ]
    },
    {
      "cell_type": "markdown",
      "metadata": {
        "id": "IraiR0SbeDi_"
      },
      "source": [
        "# Logistic Regression"
      ]
    },
    {
      "cell_type": "markdown",
      "metadata": {
        "id": "nRQjwWC3eDnc"
      },
      "source": [
        "**Task:** Implement your own Logistic Regression model, and test it on the given dataset of Logistic_question.csv!"
      ]
    },
    {
      "cell_type": "code",
      "execution_count": 45,
      "metadata": {},
      "outputs": [],
      "source": [
        "# import necessary libraries\n",
        "import numpy as np\n",
        "import pandas as pd\n",
        "import sklearn.linear_model\n",
        "\n",
        "from sklearn.model_selection import train_test_split\n",
        "from sklearn.metrics import accuracy_score\n",
        "from sklearn.metrics import precision_score\n",
        "from sklearn.metrics import recall_score\n",
        "\n",
        "\n",
        "class MyLogisticRegression:\n",
        "    # Your code goes here!\n",
        "    # This class must have an __init__ method, a loss function, a fit function, and a predict function. You also need to make your code runnable on gpu!\n",
        "\n",
        "    def __init__ (self, lr = 1e-2, l2lambda = 0.01):\n",
        "        self.w = None\n",
        "        self.lr = lr\n",
        "        self.l2lambda = l2lambda\n",
        "    \n",
        "    \n",
        "    @staticmethod         \n",
        "    def computeGradient(theta, X, y, regLambda):\n",
        "        h = MyLogisticRegression.sigmoid(X @ theta) \n",
        "        grad = (h - y) @ X \n",
        "        grad[1:] = grad[1:] + regLambda*(theta[1:])\n",
        "        return grad.T/len(y)\n",
        "    \n",
        "    \n",
        "    @staticmethod\n",
        "    def sigmoid(Z):\n",
        "        return 1/(1+np.exp(-Z))\n",
        "    \n",
        "    @staticmethod       \n",
        "    def soft_log_sigmoid_func(a):\n",
        "        h = MyLogisticRegression.sigmoid(a)\n",
        "        ish0 = 1 -np.heaviside(h,0)\n",
        "        ish1 = np.heaviside(h-1,1)\n",
        "        logh = np.log(ish0+h) + (ish0*a)\n",
        "        log1_h = np.log((1-h)+ish1) - (ish1*a)\n",
        "        return logh, log1_h\n",
        "    \n",
        "    \n",
        "    def fit(self, x_tr, y_train, maxNumIters = 50000, coverge_t = 1e-4,  lr = -1, l2lambda = -1):\n",
        "        if l2lambda == -1:\n",
        "            l2lambda = self.l2lambda\n",
        "        \n",
        "        if lr == -1:\n",
        "            lr = self.lr\n",
        "        \n",
        "        x_train = np.append(np.ones([len(y_train), 1]), x_tr, 1)    \n",
        "        m, n = x_train.shape\n",
        "        \n",
        "        theta = np.zeros(n)\n",
        "        theta_old = np.zeros(n)\n",
        "        \n",
        "        for _ in range(maxNumIters) :\n",
        "            theta_old = theta\n",
        "            theta = theta - lr * MyLogisticRegression.computeGradient(theta, x_train, y_train, l2lambda)\n",
        "            if(np.linalg.norm(theta_old - theta) <coverge_t):\n",
        "                break\n",
        "            \n",
        "        self.w = theta.copy()\n",
        "        return theta.copy()\n",
        "            \n",
        "            \n",
        "    def loss_func(self, x_train, y_train, weights = None, l2lambda = -1):\n",
        "        if l2lambda == -1:\n",
        "            l2lambda = self.l2lambda\n",
        "        \n",
        "        if weights is None:\n",
        "            weights = self.w\n",
        "        \n",
        "        try:    \n",
        "            a = x_train @ weights\n",
        "        except:\n",
        "            a = x_train @ weights[1:]\n",
        "            a += weights[0]\n",
        "        logh, log1_h = MyLogisticRegression.soft_log_sigmoid_func(a)\n",
        "        loss = 0\n",
        "        loss -= y_train.T @ logh \n",
        "        loss -= (1-y_train).T @ log1_h\n",
        "        \n",
        "        loss /= len(y_train)\n",
        "        return loss + (l2lambda/2)*(np.linalg.norm(weights[1:])**2)\n",
        "    \n",
        "    \n",
        "    def predict(self, x_test, weights = None):\n",
        "        if weights is None :\n",
        "            weights = self.w\n",
        "            \n",
        "        return np.heaviside(weights[0] + x_test @ weights[1:] ,1)\n",
        "        \n",
        "        "
      ]
    },
    {
      "cell_type": "markdown",
      "metadata": {
        "id": "S-i-oubUlZ6e"
      },
      "source": [
        "**Task:** Test your model on the given dataset. You must split your data into train and test, with a 0.2 split, then normalize your data using X_train data. Finally, report 4 different evaluation metrics of the model on the test set. (You might want to first make the Target column binary!)"
      ]
    },
    {
      "cell_type": "code",
      "execution_count": 46,
      "metadata": {
        "colab": {
          "base_uri": "https://localhost:8080/"
        },
        "id": "0KXzIy_2u-pG",
        "outputId": "9625f7e2-abb1-4591-c0fa-843525e0ffd6"
      },
      "outputs": [],
      "source": [
        "# Your code goes here!\n",
        "df1 = pd.read_csv('Logistic_question.csv')\n",
        "target_mean = df1.iloc[:,-1].mean()\n",
        "\n",
        "traindf, testdf = train_test_split(df1, test_size=0.2)\n",
        "\n",
        "x_train, y_train = traindf.iloc[:,:-1], traindf.iloc[:,-1]\n",
        "x_test, y_test = testdf.iloc[:,:-1], testdf.iloc[:,-1]\n",
        "\n",
        "# Making the Target Column Binary\n",
        "y_train = np.heaviside(y_train.to_numpy() - target_mean, 1)\n",
        "y_test = np.heaviside(y_test.to_numpy() - target_mean, 1)\n",
        "\n",
        "# standardization...\n",
        "x_train = (x_train - x_train.mean())/x_train.std()\n",
        "x_test = (x_test - x_test.mean())/x_test.std()\n",
        "\n",
        "# to numpy array\n",
        "x_train = x_train.to_numpy()\n",
        "x_test = x_test.to_numpy()\n",
        "\n",
        "\n",
        "blr = MyLogisticRegression()\n",
        "blr.fit(x_train, y_train)\n",
        "y_tr_pred = blr.predict(x_train)\n",
        "y_test_pred = blr.predict(x_test)\n"
      ]
    },
    {
      "cell_type": "code",
      "execution_count": 47,
      "metadata": {},
      "outputs": [
        {
          "name": "stdout",
          "output_type": "stream",
          "text": [
            "*********************************\n",
            "****** My Implementation ********\n",
            "*********************************\n",
            "Train Loss =  0.2843214763187266\n",
            "Test Loss =  0.3791300310852349\n",
            "\n",
            "Train Accuracy Score =  0.884375\n",
            "Test Accuracy Score =  0.8625\n",
            "\n",
            "Train Precision Score =  0.9024390243902439\n",
            "Test Precision Score =  0.8\n",
            "\n",
            "Train Recall Score =  0.8757396449704142\n",
            "Test Recall Score =  0.9142857142857143\n"
          ]
        }
      ],
      "source": [
        "# Metrics \n",
        "print('*********************************')\n",
        "print('****** My Implementation ********')\n",
        "print('*********************************')\n",
        "print('Train Loss = ', blr.loss_func(x_train, y_train))\n",
        "print('Test Loss = ', blr.loss_func(x_test, y_test))\n",
        "print()\n",
        "print('Train Accuracy Score = ', accuracy_score(y_train, y_tr_pred))\n",
        "print('Test Accuracy Score = ', accuracy_score(y_test, y_test_pred))\n",
        "print()\n",
        "print('Train Precision Score = ', precision_score(y_train, y_tr_pred))\n",
        "print('Test Precision Score = ', precision_score(y_test, y_test_pred))\n",
        "print()\n",
        "print('Train Recall Score = ', recall_score(y_train, y_tr_pred))\n",
        "print('Test Recall Score = ', recall_score(y_test, y_test_pred))\n"
      ]
    },
    {
      "cell_type": "markdown",
      "metadata": {
        "id": "Ji0RXNGKv1pa"
      },
      "source": [
        "**Question:** What are each of your used evaluation metrics? And for each one, mention situations in which they convey more data on the model performance in specific tasks."
      ]
    },
    {
      "cell_type": "markdown",
      "metadata": {
        "id": "ldveD35twRRZ"
      },
      "source": [
        "**Your answer:**\n",
        "\n",
        "Accuracy = $\\frac{T}{T+F}$\n",
        "\n",
        "Precision = $\\frac{TP}{TP+FP}$\n",
        "\n",
        "Recall = $\\frac{TP}{TP+FN}$\n",
        "\n",
        "\n",
        "<!DOCTYPE html>\n",
        "<html lang=\"en\">\n",
        "<head>\n",
        "  <meta charset=\"UTF-8\">\n",
        "  <meta name=\"viewport\" content=\"width=device-width, initial-scale=1.0\">\n",
        "  <style>\n",
        "    .container {\n",
        "      display: flex;\n",
        "      flex-direction: row-reverse;\n",
        "    }\n",
        "    .text {\n",
        "      flex: 1;\n",
        "      text-align: justify;\n",
        "    }\n",
        "    .title {\n",
        "      flex: 0;\n",
        "      text-align: right;\n",
        "      margin-left: 20px;\n",
        "    }\n",
        "  </style>\n",
        "</head>\n",
        "<body>\n",
        "  <div class=\"container\">\n",
        "    <div class=\"text\">\n",
        "      <p dir=\"rtl\">\n",
        "به کمک  این موارد می توان فهمید درصد صحت چگونه است و خطا بیشتر در چه حالتی رخ می‌دهد و به خصوص اگر خطا های مختلف برایمان هزینه های مختلف داشته باشد می‌توان از تفاوت این متریک  ها استفاده کرد.\n",
        "<br>\n",
        "</br>\n",
        "</p>\n",
        "    </div>\n",
        "  </div>\n",
        "</body>\n",
        "</html>\n"
      ]
    },
    {
      "cell_type": "markdown",
      "metadata": {
        "id": "1ZCeRHZSw-mh"
      },
      "source": [
        "**Task:** Now test the built-in function of Python for Logistic Regression, and report all the same metrics used before."
      ]
    },
    {
      "cell_type": "code",
      "execution_count": 48,
      "metadata": {
        "id": "Vb5lRSQXDLR3"
      },
      "outputs": [
        {
          "name": "stdout",
          "output_type": "stream",
          "text": [
            "*********************************\n",
            "*********** sklearn******* *******\n",
            "*********************************\n",
            "Train Loss =  0.2922058568648273\n",
            "Test Loss =  0.35042003973710995\n",
            "\n",
            "Train Accuracy Score =  0.896875\n",
            "Test Accuracy Score =  0.85\n",
            "\n",
            "Train Precision Score =  0.9047619047619048\n",
            "Test Precision Score =  0.7804878048780488\n",
            "\n",
            "Train Recall Score =  0.8994082840236687\n",
            "Test Recall Score =  0.9142857142857143\n"
          ]
        }
      ],
      "source": [
        "# Your code goes here!\n",
        "sk_blr = sklearn.linear_model.LogisticRegression()\n",
        "sk_blr.fit(x_train, y_train)\n",
        "\n",
        "sk_blr_test_pre = sk_blr.predict(x_test)\n",
        "sk_blr_tr_pre = sk_blr.predict(x_train)\n",
        "\n",
        "print('*********************************')\n",
        "print('*********** sklearn******* *******')\n",
        "print('*********************************')\n",
        "\n",
        "print('Train Loss = ', blr.loss_func(x_train, y_train, weights=sk_blr.coef_.T)[0])\n",
        "print('Test Loss = ', blr.loss_func(x_test, y_test, weights=sk_blr.coef_.T)[0])\n",
        "print()\n",
        "print('Train Accuracy Score = ', accuracy_score(y_train, sk_blr_tr_pre))\n",
        "print('Test Accuracy Score = ', accuracy_score(y_test, sk_blr_test_pre))\n",
        "print()\n",
        "print('Train Precision Score = ', precision_score(y_train, sk_blr_tr_pre))\n",
        "print('Test Precision Score = ', precision_score(y_test, sk_blr_test_pre))\n",
        "print()\n",
        "print('Train Recall Score = ', recall_score(y_train, sk_blr_tr_pre))\n",
        "print('Test Recall Score = ', recall_score(y_test, sk_blr_test_pre))"
      ]
    },
    {
      "cell_type": "markdown",
      "metadata": {
        "id": "RCvIymmMy_ji"
      },
      "source": [
        "**Question:** Compare your function with the built-in function. On the matters of performance and parameters. Briefly explain what the parameters of the built-in function are and how they affect the model's performance?"
      ]
    },
    {
      "cell_type": "markdown",
      "metadata": {
        "id": "EY0ohM16z3De"
      },
      "source": [
        "**Your answer:**\n",
        "پیاده سازی ما یک درصد صحت بهتری دارد که البته می‌تواند با ران های مختلف و در نتیجه تغییر دسته ترین و تست یا تغییر پارامتر ها کم و بیشتر شود."
      ]
    },
    {
      "cell_type": "markdown",
      "metadata": {
        "id": "ClMqoYlr2kr7"
      },
      "source": [
        "# Multinomial Logistic Regression"
      ]
    },
    {
      "cell_type": "markdown",
      "metadata": {
        "id": "ukvlqDe52xP5"
      },
      "source": [
        "**Task:** Implement your own Multinomial Logistic Regression model. Your model must be able to handle any number of labels!"
      ]
    },
    {
      "cell_type": "code",
      "execution_count": 49,
      "metadata": {
        "id": "5Ir-_hFt286t"
      },
      "outputs": [],
      "source": [
        "# import necessary libraries\n",
        "from tqdm import tqdm\n",
        "\n",
        "class MyMultinomialLogisticRegression:\n",
        "    # Your code goes here!\n",
        "    # This class must have an __init__ method, a loss function, a fit function, and a predict function. You also need to make your code runnable on gpu!\n",
        "    \n",
        "    def __init__ (self, class_num, lr = 1e-3, l2lambda = 0.01):\n",
        "        self.w = None\n",
        "        self.lr = lr\n",
        "        self.l2lambda = l2lambda\n",
        "        self.class_num = class_num\n",
        "    \n",
        "    @staticmethod\n",
        "    def soft_max(z, dim = 1):\n",
        "        ex = np.exp(z)\n",
        "        d = np.diag(1/np.sum(ex,dim))\n",
        "        if dim == 1:\n",
        "            result = d @ ex \n",
        "        else:\n",
        "            result = ex @ d\n",
        "        return result\n",
        "    \n",
        "    @staticmethod\n",
        "    def one_hot(y_arr, class_num):\n",
        "        result = np.zeros([len(y_arr),class_num])\n",
        "        for i, y in enumerate(y_arr):\n",
        "            result[i, int(y)] = 1\n",
        "        return result\n",
        "        \n",
        "    \n",
        "    @staticmethod         \n",
        "    def computeGradient(theta, X, y, regLambda, class_num):\n",
        "        h = MyMultinomialLogisticRegression.soft_max(X @ theta, 1) \n",
        "        one_hot_y = MyMultinomialLogisticRegression.one_hot(y, class_num)\n",
        "        grad = X.T @ (h - one_hot_y)\n",
        "        grad = grad + regLambda*(theta)\n",
        "        return grad/len(y)\n",
        "\n",
        "\n",
        "    def fit(self, x_tr, y_train, maxNumIters = 10000, coverge_t = 1e-4,  lr = -1, l2lambda = -1):\n",
        "        if l2lambda == -1:\n",
        "            l2lambda = self.l2lambda\n",
        "        \n",
        "        if lr == -1:\n",
        "            lr = self.lr\n",
        "        \n",
        "        x_train = np.append(np.ones([len(y_train), 1]), x_tr, 1)\n",
        "        m, n = x_train.shape\n",
        "        \n",
        "        theta = np.zeros([n,self.class_num])\n",
        "        theta_old = np.zeros([n,self.class_num])\n",
        "        \n",
        "        for _ in range(maxNumIters) :\n",
        "            theta_old = theta\n",
        "            theta = theta - lr * MyMultinomialLogisticRegression.computeGradient(theta, x_train, y_train, l2lambda,self.class_num)\n",
        "            if(np.linalg.norm(theta_old - theta) < coverge_t):\n",
        "                break\n",
        "            \n",
        "        self.w = theta.copy()\n",
        "        return theta.copy()\n",
        "    \n",
        "    def predict(self, x_test, weights = None):\n",
        "        if weights is None :\n",
        "            weights = self.w\n",
        "        \n",
        "        a = weights[0,:] + x_test @ weights[1:,:]\n",
        "        \n",
        "        return np.argmax(a,1)\n",
        "    \n",
        "    def loss_func(self, x_train, y_train, weights = None, l2lambda = -1):\n",
        "        if l2lambda == -1:\n",
        "            l2lambda = self.l2lambda\n",
        "        \n",
        "        if weights is None:\n",
        "            weights = self.w\n",
        "        \n",
        "        try:    \n",
        "            a = x_train @ weights\n",
        "        except:\n",
        "            a = x_train @ weights[1:]\n",
        "            a += weights[0]\n",
        "        \n",
        "                \n",
        "        h = MyMultinomialLogisticRegression.soft_max(a)\n",
        "        loss = 0\n",
        "        for i in range(len(y_train)):\n",
        "            loss -= np.log(h[i,int(y_train[i])])\n",
        "            \n",
        "        loss /= len(y_train)\n",
        "        \n",
        "        return loss + (l2lambda/2)*(np.linalg.norm(weights)**2)\n",
        "\n"
      ]
    },
    {
      "cell_type": "markdown",
      "metadata": {
        "id": "zPQ3Rtay3Y2_"
      },
      "source": [
        "**Task:** Test your model on the given dataset. Do the same as the previous part, but here you might want to first make the Target column quantized into $i$ levels. Change $i$ from 2 to 10."
      ]
    },
    {
      "cell_type": "code",
      "execution_count": 50,
      "metadata": {
        "id": "9aP4QJPq29B3"
      },
      "outputs": [
        {
          "name": "stderr",
          "output_type": "stream",
          "text": [
            "100%|██████████| 9/9 [00:29<00:00,  3.23s/it]\n"
          ]
        }
      ],
      "source": [
        "# Your code goes here!\n",
        "def get_data_set(df, qlevel):\n",
        "    df = df.copy()\n",
        "    mi = df.iloc[:,-1].min()\n",
        "    ma = df.iloc[:,-1].max()\n",
        "    df.iloc[:,-1] = (qlevel*0.99*((df.iloc[:,-1] - mi)/(ma - mi))) //1\n",
        "    traindf, testdf = train_test_split(df, test_size=0.2)\n",
        "\n",
        "    x_train, y_train = traindf.iloc[:,:-1], traindf.iloc[:,-1]\n",
        "    x_test, y_test = testdf.iloc[:,:-1], testdf.iloc[:,-1]\n",
        "\n",
        "    # standardization...\n",
        "    x_train = (x_train - x_train.mean())/x_train.std()\n",
        "    x_test = (x_test - x_test.mean())/x_test.std()\n",
        "\n",
        "    # to numpy array\n",
        "    x_train = x_train.to_numpy()\n",
        "    x_test = x_test.to_numpy()\n",
        "    return x_train, y_train.to_numpy(), x_test, y_test.to_numpy()\n",
        "\n",
        "\n",
        "mymlr_result = []\n",
        "sklmlr_result = []\n",
        "qvals = [2,3,4,5,6,7,8,9,10]\n",
        "for q in tqdm(qvals):\n",
        "    x_train, y_train, x_test, y_test = get_data_set(df1 ,q)\n",
        "    skmlr = sklearn.linear_model.LogisticRegression(multi_class='multinomial')\n",
        "    skmlr.fit(x_train, y_train)\n",
        "    skp_tr = skmlr.predict(x_train)\n",
        "    skp_test = skmlr.predict(x_test)\n",
        "    mlr = MyMultinomialLogisticRegression(class_num=q)\n",
        "    coef = np.array(skmlr.coef_.tolist() + [np.zeros(skmlr.coef_.shape[1]).tolist()])\n",
        "    \n",
        "    sklmlr_result.append([mlr.loss_func(x_train,y_train, coef.T), mlr.loss_func(x_test,y_test, coef.T),\n",
        "                         accuracy_score(y_train, skp_tr), accuracy_score(y_test, skp_test),\n",
        "                         precision_score(y_train, skp_tr, average='micro'), precision_score(y_test, skp_test, average='micro'),\n",
        "                         recall_score(y_train, skp_tr, average='micro'), recall_score(y_test, skp_test, average='micro')])\n",
        "    \n",
        "    mlr.fit(x_train, y_train)\n",
        "    yptr = mlr.predict(x_train)\n",
        "    ypte = mlr.predict(x_test)\n",
        "    \n",
        "    mymlr_result.append([mlr.loss_func(x_train,y_train), mlr.loss_func(x_test,y_test),\n",
        "                         accuracy_score(y_train, yptr), accuracy_score(y_test, ypte),\n",
        "                         precision_score(y_train, yptr, average='micro'), precision_score(y_test, ypte, average='micro'),\n",
        "                         recall_score(y_train, yptr, average='micro'), recall_score(y_test, ypte, average='micro')])\n"
      ]
    },
    {
      "cell_type": "code",
      "execution_count": 51,
      "metadata": {},
      "outputs": [
        {
          "data": {
            "image/png": "[encoded data removed]",
            "text/plain": [
              "<Figure size 1600x1000 with 4 Axes>"
            ]
          },
          "metadata": {},
          "output_type": "display_data"
        }
      ],
      "source": [
        "import matplotlib.pyplot as plt\n",
        "mymlr_result = np.array(mymlr_result)\n",
        "sklmlr_result = np.array(sklmlr_result) \n",
        "plt.figure(figsize=(16,10))\n",
        "\n",
        "tit = ['Loss', 'Accuracy Score', 'Precision Score', 'Recall Score']\n",
        "for i in range(4):\n",
        "    plt.subplot(2,2,i+1)\n",
        "    plt.plot(qvals, mymlr_result[:,2*i], label = 'My. Imp. Train')\n",
        "    plt.plot(qvals, mymlr_result[:,2*i+1], label = 'My Imp. Test')\n",
        "    plt.plot(qvals, sklmlr_result[:,2*i], label = 'sklearn Imp. Train')\n",
        "    plt.plot(qvals, sklmlr_result[:,2*i+1], label = 'sklearn Imp. Test')\n",
        "    plt.legend()\n",
        "    plt.xlabel('i')\n",
        "    plt.title(tit[i])\n",
        "\n"
      ]
    },
    {
      "cell_type": "markdown",
      "metadata": {
        "id": "Of2sHl5Z4dXi"
      },
      "source": [
        "**Question:** Report for which $i$ your model performs best. Describe and analyze the results! You could use visualizations or any other method!"
      ]
    },
    {
      "cell_type": "markdown",
      "metadata": {
        "id": "cRLERDAr4wnS"
      },
      "source": [
        "**Your answer:**\n",
        "<!DOCTYPE html>\n",
        "<html lang=\"en\">\n",
        "<head>\n",
        "  <meta charset=\"UTF-8\">\n",
        "  <meta name=\"viewport\" content=\"width=device-width, initial-scale=1.0\">\n",
        "  <style>\n",
        "    .container {\n",
        "      display: flex;\n",
        "      flex-direction: row-reverse;\n",
        "    }\n",
        "    .text {\n",
        "      flex: 1;\n",
        "      text-align: justify;\n",
        "    }\n",
        "    .title {\n",
        "      flex: 0;\n",
        "      text-align: right;\n",
        "      margin-left: 20px;\n",
        "    }\n",
        "  </style>\n",
        "</head>\n",
        "<body>\n",
        "  <div class=\"container\">\n",
        "    <div class=\"text\">\n",
        "      <p dir=\"rtl\">\n",
        "به طور کلی با افزایش دسته ها دقت پایین تر آمد اما باید به این نکته نیز توجه داشت که هرچه دسته ها بیشتر شوند احتمال حدس رندوم درست هم کمتر می‌شود\n",
        "پس لزوما بدتر شدن صحت را نمیتوان به معنی عملکرد بدتر دانست.\n",
        "<br>\n",
        "اما به هرحال هرچه دسته ها بیشتر باشند هم برای هر دسته داده های بیشتری موجود است و هم پارامتر های کمتری برای یادگیری لازم است و یادگیری راحت تر خواهد بود.\n",
        "\n",
        "</br>\n",
        "</p>\n",
        "    </div>\n",
        "  </div>\n",
        "</body>\n",
        "</html>\n"
      ]
    },
    {
      "cell_type": "markdown",
      "metadata": {
        "id": "wT43jGKV6CBZ"
      },
      "source": [
        "# Going a little further!"
      ]
    },
    {
      "cell_type": "markdown",
      "metadata": {
        "id": "Vo9uGo0R6GZo"
      },
      "source": [
        "First we download Adult income dataset from Kaggle! In order to do this create an account on this website, and create an API. A file named kaggle.json will be downloaded to your device. Then use the following code:"
      ]
    },
    {
      "cell_type": "code",
      "execution_count": 52,
      "metadata": {
        "colab": {
          "base_uri": "https://localhost:8080/",
          "height": 73
        },
        "id": "o-vrjYBF7u1E",
        "outputId": "b274bc6e-4c35-4ad8-f17b-9e69f7d92923"
      },
      "outputs": [],
      "source": [
        "'''\n",
        "from google.colab import files\n",
        "files.upload()  # Use this to select the kaggle.json file from your computer\n",
        "!mkdir -p ~/.kaggle\n",
        "!cp kaggle.json ~/.kaggle/\n",
        "!chmod 600 ~/.kaggle/kaggle.json\n",
        "''';"
      ]
    },
    {
      "cell_type": "markdown",
      "metadata": {
        "id": "5i6u6_1v8ftX"
      },
      "source": [
        "Then use this code to automatically download the dataset into Colab."
      ]
    },
    {
      "cell_type": "code",
      "execution_count": 53,
      "metadata": {
        "colab": {
          "base_uri": "https://localhost:8080/"
        },
        "id": "XjyVaVKF29Hx",
        "outputId": "15d0b1a2-c806-4102-abbc-12545237e218"
      },
      "outputs": [
        {
          "data": {
            "text/html": [
              "<div>\n",
              "<style scoped>\n",
              "    .dataframe tbody tr th:only-of-type {\n",
              "        vertical-align: middle;\n",
              "    }\n",
              "\n",
              "    .dataframe tbody tr th {\n",
              "        vertical-align: top;\n",
              "    }\n",
              "\n",
              "    .dataframe thead th {\n",
              "        text-align: right;\n",
              "    }\n",
              "</style>\n",
              "<table border=\"1\" class=\"dataframe\">\n",
              "  <thead>\n",
              "    <tr style=\"text-align: right;\">\n",
              "      <th></th>\n",
              "      <th>age</th>\n",
              "      <th>workclass</th>\n",
              "      <th>fnlwgt</th>\n",
              "      <th>education</th>\n",
              "      <th>educational-num</th>\n",
              "      <th>marital-status</th>\n",
              "      <th>occupation</th>\n",
              "      <th>relationship</th>\n",
              "      <th>race</th>\n",
              "      <th>gender</th>\n",
              "      <th>capital-gain</th>\n",
              "      <th>capital-loss</th>\n",
              "      <th>hours-per-week</th>\n",
              "      <th>native-country</th>\n",
              "      <th>income</th>\n",
              "    </tr>\n",
              "  </thead>\n",
              "  <tbody>\n",
              "    <tr>\n",
              "      <th>0</th>\n",
              "      <td>25</td>\n",
              "      <td>Private</td>\n",
              "      <td>226802</td>\n",
              "      <td>11th</td>\n",
              "      <td>7</td>\n",
              "      <td>Never-married</td>\n",
              "      <td>Machine-op-inspct</td>\n",
              "      <td>Own-child</td>\n",
              "      <td>Black</td>\n",
              "      <td>Male</td>\n",
              "      <td>0</td>\n",
              "      <td>0</td>\n",
              "      <td>40</td>\n",
              "      <td>United-States</td>\n",
              "      <td>&lt;=50K</td>\n",
              "    </tr>\n",
              "    <tr>\n",
              "      <th>1</th>\n",
              "      <td>38</td>\n",
              "      <td>Private</td>\n",
              "      <td>89814</td>\n",
              "      <td>HS-grad</td>\n",
              "      <td>9</td>\n",
              "      <td>Married-civ-spouse</td>\n",
              "      <td>Farming-fishing</td>\n",
              "      <td>Husband</td>\n",
              "      <td>White</td>\n",
              "      <td>Male</td>\n",
              "      <td>0</td>\n",
              "      <td>0</td>\n",
              "      <td>50</td>\n",
              "      <td>United-States</td>\n",
              "      <td>&lt;=50K</td>\n",
              "    </tr>\n",
              "    <tr>\n",
              "      <th>2</th>\n",
              "      <td>28</td>\n",
              "      <td>Local-gov</td>\n",
              "      <td>336951</td>\n",
              "      <td>Assoc-acdm</td>\n",
              "      <td>12</td>\n",
              "      <td>Married-civ-spouse</td>\n",
              "      <td>Protective-serv</td>\n",
              "      <td>Husband</td>\n",
              "      <td>White</td>\n",
              "      <td>Male</td>\n",
              "      <td>0</td>\n",
              "      <td>0</td>\n",
              "      <td>40</td>\n",
              "      <td>United-States</td>\n",
              "      <td>&gt;50K</td>\n",
              "    </tr>\n",
              "    <tr>\n",
              "      <th>3</th>\n",
              "      <td>44</td>\n",
              "      <td>Private</td>\n",
              "      <td>160323</td>\n",
              "      <td>Some-college</td>\n",
              "      <td>10</td>\n",
              "      <td>Married-civ-spouse</td>\n",
              "      <td>Machine-op-inspct</td>\n",
              "      <td>Husband</td>\n",
              "      <td>Black</td>\n",
              "      <td>Male</td>\n",
              "      <td>7688</td>\n",
              "      <td>0</td>\n",
              "      <td>40</td>\n",
              "      <td>United-States</td>\n",
              "      <td>&gt;50K</td>\n",
              "    </tr>\n",
              "    <tr>\n",
              "      <th>4</th>\n",
              "      <td>18</td>\n",
              "      <td>?</td>\n",
              "      <td>103497</td>\n",
              "      <td>Some-college</td>\n",
              "      <td>10</td>\n",
              "      <td>Never-married</td>\n",
              "      <td>?</td>\n",
              "      <td>Own-child</td>\n",
              "      <td>White</td>\n",
              "      <td>Female</td>\n",
              "      <td>0</td>\n",
              "      <td>0</td>\n",
              "      <td>30</td>\n",
              "      <td>United-States</td>\n",
              "      <td>&lt;=50K</td>\n",
              "    </tr>\n",
              "    <tr>\n",
              "      <th>...</th>\n",
              "      <td>...</td>\n",
              "      <td>...</td>\n",
              "      <td>...</td>\n",
              "      <td>...</td>\n",
              "      <td>...</td>\n",
              "      <td>...</td>\n",
              "      <td>...</td>\n",
              "      <td>...</td>\n",
              "      <td>...</td>\n",
              "      <td>...</td>\n",
              "      <td>...</td>\n",
              "      <td>...</td>\n",
              "      <td>...</td>\n",
              "      <td>...</td>\n",
              "      <td>...</td>\n",
              "    </tr>\n",
              "    <tr>\n",
              "      <th>48837</th>\n",
              "      <td>27</td>\n",
              "      <td>Private</td>\n",
              "      <td>257302</td>\n",
              "      <td>Assoc-acdm</td>\n",
              "      <td>12</td>\n",
              "      <td>Married-civ-spouse</td>\n",
              "      <td>Tech-support</td>\n",
              "      <td>Wife</td>\n",
              "      <td>White</td>\n",
              "      <td>Female</td>\n",
              "      <td>0</td>\n",
              "      <td>0</td>\n",
              "      <td>38</td>\n",
              "      <td>United-States</td>\n",
              "      <td>&lt;=50K</td>\n",
              "    </tr>\n",
              "    <tr>\n",
              "      <th>48838</th>\n",
              "      <td>40</td>\n",
              "      <td>Private</td>\n",
              "      <td>154374</td>\n",
              "      <td>HS-grad</td>\n",
              "      <td>9</td>\n",
              "      <td>Married-civ-spouse</td>\n",
              "      <td>Machine-op-inspct</td>\n",
              "      <td>Husband</td>\n",
              "      <td>White</td>\n",
              "      <td>Male</td>\n",
              "      <td>0</td>\n",
              "      <td>0</td>\n",
              "      <td>40</td>\n",
              "      <td>United-States</td>\n",
              "      <td>&gt;50K</td>\n",
              "    </tr>\n",
              "    <tr>\n",
              "      <th>48839</th>\n",
              "      <td>58</td>\n",
              "      <td>Private</td>\n",
              "      <td>151910</td>\n",
              "      <td>HS-grad</td>\n",
              "      <td>9</td>\n",
              "      <td>Widowed</td>\n",
              "      <td>Adm-clerical</td>\n",
              "      <td>Unmarried</td>\n",
              "      <td>White</td>\n",
              "      <td>Female</td>\n",
              "      <td>0</td>\n",
              "      <td>0</td>\n",
              "      <td>40</td>\n",
              "      <td>United-States</td>\n",
              "      <td>&lt;=50K</td>\n",
              "    </tr>\n",
              "    <tr>\n",
              "      <th>48840</th>\n",
              "      <td>22</td>\n",
              "      <td>Private</td>\n",
              "      <td>201490</td>\n",
              "      <td>HS-grad</td>\n",
              "      <td>9</td>\n",
              "      <td>Never-married</td>\n",
              "      <td>Adm-clerical</td>\n",
              "      <td>Own-child</td>\n",
              "      <td>White</td>\n",
              "      <td>Male</td>\n",
              "      <td>0</td>\n",
              "      <td>0</td>\n",
              "      <td>20</td>\n",
              "      <td>United-States</td>\n",
              "      <td>&lt;=50K</td>\n",
              "    </tr>\n",
              "    <tr>\n",
              "      <th>48841</th>\n",
              "      <td>52</td>\n",
              "      <td>Self-emp-inc</td>\n",
              "      <td>287927</td>\n",
              "      <td>HS-grad</td>\n",
              "      <td>9</td>\n",
              "      <td>Married-civ-spouse</td>\n",
              "      <td>Exec-managerial</td>\n",
              "      <td>Wife</td>\n",
              "      <td>White</td>\n",
              "      <td>Female</td>\n",
              "      <td>15024</td>\n",
              "      <td>0</td>\n",
              "      <td>40</td>\n",
              "      <td>United-States</td>\n",
              "      <td>&gt;50K</td>\n",
              "    </tr>\n",
              "  </tbody>\n",
              "</table>\n",
              "<p>48842 rows × 15 columns</p>\n",
              "</div>"
            ],
            "text/plain": [
              "       age     workclass  fnlwgt     education  educational-num  \\\n",
              "0       25       Private  226802          11th                7   \n",
              "1       38       Private   89814       HS-grad                9   \n",
              "2       28     Local-gov  336951    Assoc-acdm               12   \n",
              "3       44       Private  160323  Some-college               10   \n",
              "4       18             ?  103497  Some-college               10   \n",
              "...    ...           ...     ...           ...              ...   \n",
              "48837   27       Private  257302    Assoc-acdm               12   \n",
              "48838   40       Private  154374       HS-grad                9   \n",
              "48839   58       Private  151910       HS-grad                9   \n",
              "48840   22       Private  201490       HS-grad                9   \n",
              "48841   52  Self-emp-inc  287927       HS-grad                9   \n",
              "\n",
              "           marital-status         occupation relationship   race  gender  \\\n",
              "0           Never-married  Machine-op-inspct    Own-child  Black    Male   \n",
              "1      Married-civ-spouse    Farming-fishing      Husband  White    Male   \n",
              "2      Married-civ-spouse    Protective-serv      Husband  White    Male   \n",
              "3      Married-civ-spouse  Machine-op-inspct      Husband  Black    Male   \n",
              "4           Never-married                  ?    Own-child  White  Female   \n",
              "...                   ...                ...          ...    ...     ...   \n",
              "48837  Married-civ-spouse       Tech-support         Wife  White  Female   \n",
              "48838  Married-civ-spouse  Machine-op-inspct      Husband  White    Male   \n",
              "48839             Widowed       Adm-clerical    Unmarried  White  Female   \n",
              "48840       Never-married       Adm-clerical    Own-child  White    Male   \n",
              "48841  Married-civ-spouse    Exec-managerial         Wife  White  Female   \n",
              "\n",
              "       capital-gain  capital-loss  hours-per-week native-country income  \n",
              "0                 0             0              40  United-States  <=50K  \n",
              "1                 0             0              50  United-States  <=50K  \n",
              "2                 0             0              40  United-States   >50K  \n",
              "3              7688             0              40  United-States   >50K  \n",
              "4                 0             0              30  United-States  <=50K  \n",
              "...             ...           ...             ...            ...    ...  \n",
              "48837             0             0              38  United-States  <=50K  \n",
              "48838             0             0              40  United-States   >50K  \n",
              "48839             0             0              40  United-States  <=50K  \n",
              "48840             0             0              20  United-States  <=50K  \n",
              "48841         15024             0              40  United-States   >50K  \n",
              "\n",
              "[48842 rows x 15 columns]"
            ]
          },
          "execution_count": 53,
          "metadata": {},
          "output_type": "execute_result"
        }
      ],
      "source": [
        "'''\n",
        "!kaggle datasets download -d wenruliu/adult-income-dataset\n",
        "!unzip /content/adult-income-dataset.zip\n",
        "'''\n",
        "df2 = pd.read_csv('adult.csv')\n",
        "df2\n"
      ]
    },
    {
      "cell_type": "markdown",
      "metadata": {
        "id": "EXQnbZwt8rJK"
      },
      "source": [
        "**Task:** Determine the number of null entries!"
      ]
    },
    {
      "cell_type": "code",
      "execution_count": 54,
      "metadata": {
        "colab": {
          "base_uri": "https://localhost:8080/"
        },
        "id": "JtuEx6QW29c1",
        "outputId": "43397bec-0622-4dc4-de2b-c65be00e4503"
      },
      "outputs": [
        {
          "name": "stdout",
          "output_type": "stream",
          "text": [
            "age 0\n",
            "workclass 2799\n",
            "fnlwgt 0\n",
            "education 0\n",
            "educational-num 0\n",
            "marital-status 0\n",
            "occupation 2809\n",
            "relationship 0\n",
            "race 0\n",
            "gender 0\n",
            "capital-gain 0\n",
            "capital-loss 0\n",
            "hours-per-week 0\n",
            "native-country 857\n",
            "income 0\n",
            "*************\n",
            "Total =  6465\n",
            "*************\n"
          ]
        }
      ],
      "source": [
        "# Your code goes here!\n",
        "tot = 0\n",
        "for c in df2.columns:\n",
        "    t = df2[c].value_counts()\n",
        "    try:\n",
        "        r = t['?']\n",
        "    except:\n",
        "        r = 0\n",
        "    print(c, r)\n",
        "    tot += r\n",
        "print('*************')\n",
        "print('Total = ',tot )\n",
        "print('*************')\n"
      ]
    },
    {
      "cell_type": "markdown",
      "metadata": {
        "id": "JpEcBdTUAYVN"
      },
      "source": [
        "**Question:** In many widely used datasets there are a lot of null entries. Propose 5 methods by which, one could deal with this problem. Briefly explain how do you decide which one to use in this problem."
      ]
    },
    {
      "cell_type": "markdown",
      "metadata": {
        "id": "l1u1pBHuAsSg"
      },
      "source": [
        "**Your answer:**\n",
        "Null Values:\n",
        "Null values, also known as missing values, are common in real-world datasets. They can occur due to a variety of reasons, such as data entry errors or incomplete data.\n",
        "\n",
        "If a column has more than 50% null values, it may be best to drop that column as it won’t provide enough information for the model. However, if the number of null values is less than 50%, we can use a simple imputer to fill in the missing values with the mean, median, or most frequent value.\n",
        "\n",
        "In this question I use the last method and replace '?' with the most frequent occurrence. Because the number of '?'s in columns containing '?' is at most 6 percent."
      ]
    },
    {
      "cell_type": "markdown",
      "metadata": {
        "id": "eHhH-hkpAxFf"
      },
      "source": [
        "**Task:** Handle null entries using your best method."
      ]
    },
    {
      "cell_type": "code",
      "execution_count": 55,
      "metadata": {
        "colab": {
          "base_uri": "https://localhost:8080/",
          "height": 206
        },
        "id": "5fVwWcjK29fk",
        "outputId": "c21a6adf-1e6c-46d0-dd61-79d1710272c1"
      },
      "outputs": [
        {
          "name": "stdout",
          "output_type": "stream",
          "text": [
            "******************\n",
            "Total #'?' =  0\n",
            "******************\n"
          ]
        }
      ],
      "source": [
        "# Your code goes here!\n",
        "\n",
        "mod = df2.mode()\n",
        "clean_df2 = df2.copy()\n",
        "for c in df2.columns:\n",
        "    clean_df2[c] = df2[c].replace('?', mod[c].array[0])\n",
        "    \n",
        "tot = 0\n",
        "for c in clean_df2.columns:\n",
        "    t = clean_df2[c].value_counts()\n",
        "    try:\n",
        "        r = t['?']\n",
        "    except:\n",
        "        r = 0\n",
        "    tot += r\n",
        "print('******************')\n",
        "print('Total #\\'?\\' = ',tot )\n",
        "print('******************')"
      ]
    },
    {
      "cell_type": "markdown",
      "metadata": {
        "id": "43k5cTorCJaV"
      },
      "source": [
        "**Task:** Convert categorical features to numerical values. Split the dataset with 80-20 portion. Normalize all the data using X_train. Use the built-in Logistic Regression function and GridSearchCV to train your model, and report the parameters, train and test accuracy of the best model."
      ]
    },
    {
      "cell_type": "code",
      "execution_count": 56,
      "metadata": {
        "colab": {
          "base_uri": "https://localhost:8080/"
        },
        "id": "Agj18Lcd-vyZ",
        "outputId": "69e132a9-0249-4a21-c8f3-45247c1e17dc"
      },
      "outputs": [
        {
          "data": {
            "text/html": [
              "<div>\n",
              "<style scoped>\n",
              "    .dataframe tbody tr th:only-of-type {\n",
              "        vertical-align: middle;\n",
              "    }\n",
              "\n",
              "    .dataframe tbody tr th {\n",
              "        vertical-align: top;\n",
              "    }\n",
              "\n",
              "    .dataframe thead th {\n",
              "        text-align: right;\n",
              "    }\n",
              "</style>\n",
              "<table border=\"1\" class=\"dataframe\">\n",
              "  <thead>\n",
              "    <tr style=\"text-align: right;\">\n",
              "      <th></th>\n",
              "      <th>age</th>\n",
              "      <th>workclass</th>\n",
              "      <th>fnlwgt</th>\n",
              "      <th>education</th>\n",
              "      <th>educational-num</th>\n",
              "      <th>marital-status</th>\n",
              "      <th>occupation</th>\n",
              "      <th>relationship</th>\n",
              "      <th>race</th>\n",
              "      <th>gender</th>\n",
              "      <th>capital-gain</th>\n",
              "      <th>capital-loss</th>\n",
              "      <th>hours-per-week</th>\n",
              "      <th>native-country</th>\n",
              "      <th>income</th>\n",
              "    </tr>\n",
              "  </thead>\n",
              "  <tbody>\n",
              "    <tr>\n",
              "      <th>0</th>\n",
              "      <td>25</td>\n",
              "      <td>0</td>\n",
              "      <td>226802</td>\n",
              "      <td>5</td>\n",
              "      <td>7</td>\n",
              "      <td>1</td>\n",
              "      <td>6</td>\n",
              "      <td>2</td>\n",
              "      <td>1</td>\n",
              "      <td>0</td>\n",
              "      <td>0</td>\n",
              "      <td>0</td>\n",
              "      <td>40</td>\n",
              "      <td>0</td>\n",
              "      <td>0</td>\n",
              "    </tr>\n",
              "    <tr>\n",
              "      <th>1</th>\n",
              "      <td>38</td>\n",
              "      <td>0</td>\n",
              "      <td>89814</td>\n",
              "      <td>0</td>\n",
              "      <td>9</td>\n",
              "      <td>0</td>\n",
              "      <td>9</td>\n",
              "      <td>0</td>\n",
              "      <td>0</td>\n",
              "      <td>0</td>\n",
              "      <td>0</td>\n",
              "      <td>0</td>\n",
              "      <td>50</td>\n",
              "      <td>0</td>\n",
              "      <td>0</td>\n",
              "    </tr>\n",
              "    <tr>\n",
              "      <th>2</th>\n",
              "      <td>28</td>\n",
              "      <td>2</td>\n",
              "      <td>336951</td>\n",
              "      <td>6</td>\n",
              "      <td>12</td>\n",
              "      <td>0</td>\n",
              "      <td>11</td>\n",
              "      <td>0</td>\n",
              "      <td>0</td>\n",
              "      <td>0</td>\n",
              "      <td>0</td>\n",
              "      <td>0</td>\n",
              "      <td>40</td>\n",
              "      <td>0</td>\n",
              "      <td>1</td>\n",
              "    </tr>\n",
              "    <tr>\n",
              "      <th>3</th>\n",
              "      <td>44</td>\n",
              "      <td>0</td>\n",
              "      <td>160323</td>\n",
              "      <td>1</td>\n",
              "      <td>10</td>\n",
              "      <td>0</td>\n",
              "      <td>6</td>\n",
              "      <td>0</td>\n",
              "      <td>1</td>\n",
              "      <td>0</td>\n",
              "      <td>7688</td>\n",
              "      <td>0</td>\n",
              "      <td>40</td>\n",
              "      <td>0</td>\n",
              "      <td>1</td>\n",
              "    </tr>\n",
              "    <tr>\n",
              "      <th>4</th>\n",
              "      <td>18</td>\n",
              "      <td>0</td>\n",
              "      <td>103497</td>\n",
              "      <td>1</td>\n",
              "      <td>10</td>\n",
              "      <td>1</td>\n",
              "      <td>0</td>\n",
              "      <td>2</td>\n",
              "      <td>0</td>\n",
              "      <td>1</td>\n",
              "      <td>0</td>\n",
              "      <td>0</td>\n",
              "      <td>30</td>\n",
              "      <td>0</td>\n",
              "      <td>0</td>\n",
              "    </tr>\n",
              "    <tr>\n",
              "      <th>...</th>\n",
              "      <td>...</td>\n",
              "      <td>...</td>\n",
              "      <td>...</td>\n",
              "      <td>...</td>\n",
              "      <td>...</td>\n",
              "      <td>...</td>\n",
              "      <td>...</td>\n",
              "      <td>...</td>\n",
              "      <td>...</td>\n",
              "      <td>...</td>\n",
              "      <td>...</td>\n",
              "      <td>...</td>\n",
              "      <td>...</td>\n",
              "      <td>...</td>\n",
              "      <td>...</td>\n",
              "    </tr>\n",
              "    <tr>\n",
              "      <th>48837</th>\n",
              "      <td>27</td>\n",
              "      <td>0</td>\n",
              "      <td>257302</td>\n",
              "      <td>6</td>\n",
              "      <td>12</td>\n",
              "      <td>0</td>\n",
              "      <td>10</td>\n",
              "      <td>4</td>\n",
              "      <td>0</td>\n",
              "      <td>1</td>\n",
              "      <td>0</td>\n",
              "      <td>0</td>\n",
              "      <td>38</td>\n",
              "      <td>0</td>\n",
              "      <td>0</td>\n",
              "    </tr>\n",
              "    <tr>\n",
              "      <th>48838</th>\n",
              "      <td>40</td>\n",
              "      <td>0</td>\n",
              "      <td>154374</td>\n",
              "      <td>0</td>\n",
              "      <td>9</td>\n",
              "      <td>0</td>\n",
              "      <td>6</td>\n",
              "      <td>0</td>\n",
              "      <td>0</td>\n",
              "      <td>0</td>\n",
              "      <td>0</td>\n",
              "      <td>0</td>\n",
              "      <td>40</td>\n",
              "      <td>0</td>\n",
              "      <td>1</td>\n",
              "    </tr>\n",
              "    <tr>\n",
              "      <th>48839</th>\n",
              "      <td>58</td>\n",
              "      <td>0</td>\n",
              "      <td>151910</td>\n",
              "      <td>0</td>\n",
              "      <td>9</td>\n",
              "      <td>4</td>\n",
              "      <td>3</td>\n",
              "      <td>3</td>\n",
              "      <td>0</td>\n",
              "      <td>1</td>\n",
              "      <td>0</td>\n",
              "      <td>0</td>\n",
              "      <td>40</td>\n",
              "      <td>0</td>\n",
              "      <td>0</td>\n",
              "    </tr>\n",
              "    <tr>\n",
              "      <th>48840</th>\n",
              "      <td>22</td>\n",
              "      <td>0</td>\n",
              "      <td>201490</td>\n",
              "      <td>0</td>\n",
              "      <td>9</td>\n",
              "      <td>1</td>\n",
              "      <td>3</td>\n",
              "      <td>2</td>\n",
              "      <td>0</td>\n",
              "      <td>0</td>\n",
              "      <td>0</td>\n",
              "      <td>0</td>\n",
              "      <td>20</td>\n",
              "      <td>0</td>\n",
              "      <td>0</td>\n",
              "    </tr>\n",
              "    <tr>\n",
              "      <th>48841</th>\n",
              "      <td>52</td>\n",
              "      <td>4</td>\n",
              "      <td>287927</td>\n",
              "      <td>0</td>\n",
              "      <td>9</td>\n",
              "      <td>0</td>\n",
              "      <td>2</td>\n",
              "      <td>4</td>\n",
              "      <td>0</td>\n",
              "      <td>1</td>\n",
              "      <td>15024</td>\n",
              "      <td>0</td>\n",
              "      <td>40</td>\n",
              "      <td>0</td>\n",
              "      <td>1</td>\n",
              "    </tr>\n",
              "  </tbody>\n",
              "</table>\n",
              "<p>48842 rows × 15 columns</p>\n",
              "</div>"
            ],
            "text/plain": [
              "       age  workclass  fnlwgt  education  educational-num  marital-status  \\\n",
              "0       25          0  226802          5                7               1   \n",
              "1       38          0   89814          0                9               0   \n",
              "2       28          2  336951          6               12               0   \n",
              "3       44          0  160323          1               10               0   \n",
              "4       18          0  103497          1               10               1   \n",
              "...    ...        ...     ...        ...              ...             ...   \n",
              "48837   27          0  257302          6               12               0   \n",
              "48838   40          0  154374          0                9               0   \n",
              "48839   58          0  151910          0                9               4   \n",
              "48840   22          0  201490          0                9               1   \n",
              "48841   52          4  287927          0                9               0   \n",
              "\n",
              "       occupation  relationship  race  gender  capital-gain  capital-loss  \\\n",
              "0               6             2     1       0             0             0   \n",
              "1               9             0     0       0             0             0   \n",
              "2              11             0     0       0             0             0   \n",
              "3               6             0     1       0          7688             0   \n",
              "4               0             2     0       1             0             0   \n",
              "...           ...           ...   ...     ...           ...           ...   \n",
              "48837          10             4     0       1             0             0   \n",
              "48838           6             0     0       0             0             0   \n",
              "48839           3             3     0       1             0             0   \n",
              "48840           3             2     0       0             0             0   \n",
              "48841           2             4     0       1         15024             0   \n",
              "\n",
              "       hours-per-week  native-country  income  \n",
              "0                  40               0       0  \n",
              "1                  50               0       0  \n",
              "2                  40               0       1  \n",
              "3                  40               0       1  \n",
              "4                  30               0       0  \n",
              "...               ...             ...     ...  \n",
              "48837              38               0       0  \n",
              "48838              40               0       1  \n",
              "48839              40               0       0  \n",
              "48840              20               0       0  \n",
              "48841              40               0       1  \n",
              "\n",
              "[48842 rows x 15 columns]"
            ]
          },
          "execution_count": 56,
          "metadata": {},
          "output_type": "execute_result"
        }
      ],
      "source": [
        "# Your code goes here!\n",
        "cat_cols = ['workclass', 'education', 'marital-status', 'occupation', 'relationship', 'race', 'gender', 'native-country', 'income']\n",
        "cat_col_val = {}\n",
        "clean_df2.iloc[:,1].value_counts().to_dict().keys()\n",
        "for c in cat_cols:\n",
        "    t = clean_df2[c].value_counts()   \n",
        "    for i, v in enumerate(t.keys()):\n",
        "        t[v] = i\n",
        "    cat_col_val[c] = t\n",
        "\n",
        "for c in cat_cols:\n",
        "    clean_df2[c] = clean_df2[c].apply(lambda x: cat_col_val[c][x])\n",
        "    \n",
        "clean_df2"
      ]
    },
    {
      "cell_type": "code",
      "execution_count": 68,
      "metadata": {},
      "outputs": [
        {
          "name": "stdout",
          "output_type": "stream",
          "text": [
            "tuned hpyerparameters :(best parameters)  {'C': 0.1}\n",
            "accuracy : 0.8389168022158172\n",
            "test accuracy 0.8336574879721568\n"
          ]
        }
      ],
      "source": [
        "traindf, testdf = train_test_split(clean_df2, test_size=0.2, shuffle=True)\n",
        "X_train , Y_train = traindf.iloc[:, :-1], traindf.iloc[:,-1]\n",
        "X_test, Y_test = testdf.iloc[:, :-1], testdf.iloc[:,-1]\n",
        "\n",
        "m = X_train.mean()\n",
        "s = X_train.std()\n",
        "\n",
        "X_train = (X_train - m)/s\n",
        "X_test = (X_test - m)/s\n",
        "\n",
        "X_train , Y_train = X_train.to_numpy(), Y_train.to_numpy()\n",
        "X_test, Y_test = X_test.to_numpy(), Y_test.to_numpy()\n",
        "\n",
        "grid_values = {'C': [0.001,0.01,0.1,1,10,100,1000]}\n",
        "\n",
        "sk_model_lr = sklearn.linear_model.LogisticRegression(penalty='l2')\n",
        "skgr_lr = sklearn.model_selection.GridSearchCV(sk_model_lr,  param_grid=grid_values)\n",
        "skgr_lr.fit(X_train, Y_train)\n",
        "print(\"tuned hpyerparameters :(best parameters) \",skgr_lr.best_params_)\n",
        "print(\"accuracy :\",skgr_lr.best_score_)\n",
        "ypred = skgr_lr.predict(X_test)\n",
        "print('test accuracy', accuracy_score(Y_test, ypred))\n",
        "\n"
      ]
    },
    {
      "cell_type": "markdown",
      "metadata": {
        "id": "6Lzr2lqXDQ1T"
      },
      "source": [
        "**Task:** To try a different route, split X_train into $i$ parts, and train $i$ separate models on these parts. Now propose and implement 3 different *ensemble methods* to derive the global models' prediction for X_test using the results(not necessarily predictions!) of the $i$ models. Firstly, set $i=10$ to find the method with the best test accuracy(the answer is not general!). You must Use your own Logistic Regression model.(You might want to modify it a little bit for this part!)"
      ]
    },
    {
      "cell_type": "code",
      "execution_count": 77,
      "metadata": {
        "id": "K9D1jlstF9nF"
      },
      "outputs": [
        {
          "name": "stderr",
          "output_type": "stream",
          "text": [
            "10it [00:10,  1.02s/it]\n"
          ]
        },
        {
          "name": "stdout",
          "output_type": "stream",
          "text": [
            "My Log. Reg. Mean Ensemble Accuracy (i = 10):  0.8309960077797113\n",
            "Random Forest Ensemble Accuracy (i = 10):  0.8532091309243526\n",
            "AdaBoost Ensemble Accuracy (i = 10): 0.8467601596888116\n"
          ]
        }
      ],
      "source": [
        "# Your code goes here!\n",
        "from sklearn.ensemble import RandomForestClassifier\n",
        "from sklearn.ensemble import AdaBoostClassifier\n",
        "\n",
        "\n",
        "def i_train_num_test_split(x_train, y_train, trn):\n",
        "    tr_result = []\n",
        "    ind = np.arange(len(y_train))\n",
        "    np.random.shuffle(ind)\n",
        "    r = len(ind) % trn\n",
        "    splt = np.split(ind[:-r],trn)\n",
        "    for s in splt:\n",
        "        x_tr, y_tr = x_train[s, :], y_train[s]\n",
        "        tr_result.append((x_tr, y_tr))\n",
        "    \n",
        "    return tr_result \n",
        "        \n",
        "\n",
        "train_set =  i_train_num_test_split(X_train, Y_train, 10)\n",
        "\n",
        "\n",
        "my_ensemble = np.zeros(X_train.shape[1]+1)\n",
        "for i, tr in tqdm(enumerate(train_set)):\n",
        "    mylr = MyLogisticRegression()\n",
        "    mylr.fit(tr[0], tr[1])\n",
        "    my_ensemble += mylr.w\n",
        "\n",
        "my_ensemble = my_ensemble / 10\n",
        "\n",
        "y_my_ens = MyLogisticRegression().predict(X_test, my_ensemble)\n",
        "\n",
        "rf = RandomForestClassifier(n_estimators=10)\n",
        "rf.fit(X_train, Y_train)\n",
        "y_rf_pred = rf.predict(X_test)\n",
        "\n",
        "\n",
        "adab = AdaBoostClassifier(n_estimators=10)\n",
        "adab.fit(X_train, Y_train)\n",
        "y_adab_pred = adab.predict(X_test)\n",
        "\n",
        "print('My Log. Reg. Mean Ensemble Accuracy (i = 10): ', accuracy_score(Y_test, y_my_ens))\n",
        "print('Random Forest Ensemble Accuracy (i = 10): ', accuracy_score(Y_test, y_rf_pred))\n",
        "print('AdaBoost Ensemble Accuracy (i = 10):', accuracy_score(Y_test, y_adab_pred))\n",
        "\n"
      ]
    },
    {
      "cell_type": "markdown",
      "metadata": {
        "id": "9QS9HYJ5FW1T"
      },
      "source": [
        "**Question:** Explain your proposed methods and the reason you decided to use them!"
      ]
    },
    {
      "cell_type": "markdown",
      "metadata": {
        "id": "6hCBQuAeF46a"
      },
      "source": [
        "**Your answer:**\n",
        "Random Forest has the best accuracy."
      ]
    },
    {
      "cell_type": "markdown",
      "metadata": {
        "id": "jjSREvg4FTHf"
      },
      "source": [
        "**Task:** Now, for your best method, change $i$ from 2 to 100 and report $i$, train and test accuracy of the best model. Also, plot test and train accuracy for $2\\leq i\\leq100$."
      ]
    },
    {
      "cell_type": "code",
      "execution_count": 79,
      "metadata": {
        "id": "tfKS-Jq0-v4P"
      },
      "outputs": [
        {
          "name": "stderr",
          "output_type": "stream",
          "text": [
            "100%|██████████| 99/99 [07:44<00:00,  4.69s/it]\n"
          ]
        }
      ],
      "source": [
        "# Your code goes here!\n",
        "results = {}\n",
        "for i in tqdm(range(2,101)):\n",
        "    rf = RandomForestClassifier(n_estimators=i)\n",
        "    rf.fit(X_train, Y_train)\n",
        "    y_rf_pred = rf.predict(X_test)\n",
        "    results [i] = accuracy_score(Y_test, y_rf_pred)\n",
        "    \n"
      ]
    },
    {
      "cell_type": "code",
      "execution_count": 81,
      "metadata": {},
      "outputs": [
        {
          "data": {
            "text/plain": [
              "Text(0, 0.5, 'Accuracy')"
            ]
          },
          "execution_count": 81,
          "metadata": {},
          "output_type": "execute_result"
        },
        {
          "data": {
            "image/png": "[encoded data removed]",
            "text/plain": [
              "<Figure size 640x480 with 1 Axes>"
            ]
          },
          "metadata": {},
          "output_type": "display_data"
        }
      ],
      "source": [
        "plt.plot(results.keys(), results.values())\n",
        "plt.xlabel('i')\n",
        "plt.ylabel('Accuracy')"
      ]
    },
    {
      "cell_type": "markdown",
      "metadata": {
        "id": "BWV0YUgRGg1p"
      },
      "source": [
        "**Question:** Analyze the results."
      ]
    },
    {
      "cell_type": "markdown",
      "metadata": {},
      "source": [
        "**Your Answer:**\n",
        "\n",
        "با بیشتر شدن دسته ها صحت روند کلی صعودی دارد.\n"
      ]
    }
  ],
  "metadata": {
    "colab": {
      "provenance": []
    },
    "kernelspec": {
      "display_name": "Python 3",
      "name": "python3"
    },
    "language_info": {
      "codemirror_mode": {
        "name": "ipython",
        "version": 3
      },
      "file_extension": ".py",
      "mimetype": "text/x-python",
      "name": "python",
      "nbconvert_exporter": "python",
      "pygments_lexer": "ipython3",
      "version": "3.11.4"
    }
  },
  "nbformat": 4,
  "nbformat_minor": 0
}
